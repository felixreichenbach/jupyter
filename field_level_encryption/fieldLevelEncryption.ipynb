{
 "cells": [
  {
   "cell_type": "markdown",
   "metadata": {},
   "source": [
    "# MongoDB Field Level Encryption Demo"
   ]
  },
  {
   "cell_type": "code",
   "execution_count": 183,
   "metadata": {},
   "outputs": [],
   "source": [
    "import pymongo\n",
    "from pymongo import MongoClient\n",
    "from pymongo.encryption import ClientEncryption\n",
    "from bson import Binary\n",
    "import pymongocrypt\n",
    "import base64\n",
    "from bson.codec_options import DEFAULT_CODEC_OPTIONS"
   ]
  },
  {
   "cell_type": "markdown",
   "metadata": {},
   "source": [
    "### General Settings:"
   ]
  },
  {
   "cell_type": "markdown",
   "metadata": {},
   "source": [
    "Generate CMK Example Shell Command: head -c 96 /dev/urandom | base64 > key.txt"
   ]
  },
  {
   "cell_type": "code",
   "execution_count": 184,
   "metadata": {},
   "outputs": [],
   "source": [
    "cmk = base64.b64decode(\"IkhJDuh1kQXt7cNlrBkKEMpV/jbpUERloqPGCB0WaNhFC7Ig4z1X2dDwv6XByMlrRyadd3MEC+BdcY8D9cadCgvHe3MVa8o1m00+xcE4KDFJaID/FS1rwZKRPK3KfezP\")"
   ]
  },
  {
   "cell_type": "code",
   "execution_count": 185,
   "metadata": {},
   "outputs": [],
   "source": [
    "database = 'hr'\n",
    "keyStore = 'dataKeys'\n",
    "kms_providers = { \"local\" : { \"key\" : cmk } }"
   ]
  },
  {
   "cell_type": "markdown",
   "metadata": {},
   "source": [
    "### Initialise Key Vault:"
   ]
  },
  {
   "cell_type": "code",
   "execution_count": 186,
   "metadata": {},
   "outputs": [],
   "source": [
    "keyVaultClient = pymongo.MongoClient(\"127.0.0.1\")"
   ]
  },
  {
   "cell_type": "code",
   "execution_count": 187,
   "metadata": {},
   "outputs": [],
   "source": [
    "key_vault_namespace = database + '.' + keyStore"
   ]
  },
  {
   "cell_type": "code",
   "execution_count": 188,
   "metadata": {},
   "outputs": [],
   "source": [
    "keyVault = ClientEncryption(kms_providers, key_vault_namespace, keyVaultClient, DEFAULT_CODEC_OPTIONS)"
   ]
  },
  {
   "cell_type": "markdown",
   "metadata": {},
   "source": [
    "### Create Data Key"
   ]
  },
  {
   "cell_type": "markdown",
   "metadata": {},
   "source": [
    "Create two data encryption keys:"
   ]
  },
  {
   "cell_type": "code",
   "execution_count": 189,
   "metadata": {},
   "outputs": [
    {
     "data": {
      "text/plain": [
       "Binary(b'L\\xbe(\\xda\\xf3\\xe7O\\x18\\x92_\\xb6U\\xfd\\xfc\\x0c\\xcd', 4)"
      ]
     },
     "execution_count": 189,
     "metadata": {},
     "output_type": "execute_result"
    }
   ],
   "source": [
    "keyVault.create_data_key(\"local\", master_key=cmk, key_alt_names=[\"key1\"])"
   ]
  },
  {
   "cell_type": "code",
   "execution_count": 190,
   "metadata": {},
   "outputs": [
    {
     "data": {
      "text/plain": [
       "Binary(b'd\\x87\\xed\\xae\\x8c\\x07Er\\x81\\xd6\\xb0y,\\x15\\x15\\xc4', 4)"
      ]
     },
     "execution_count": 190,
     "metadata": {},
     "output_type": "execute_result"
    }
   ],
   "source": [
    "keyVault.create_data_key(\"local\", master_key=cmk, key_alt_names=[\"key2\"])"
   ]
  },
  {
   "cell_type": "markdown",
   "metadata": {},
   "source": [
    "Retrieve the key _id to be referenced in the schema_map:"
   ]
  },
  {
   "cell_type": "code",
   "execution_count": 191,
   "metadata": {},
   "outputs": [],
   "source": [
    "keyDb = keyVaultClient.hr\n",
    "key1 = keyDb['dataKeys'].find_one({'keyAltNames':'key1'})['_id']\n",
    "key2 = keyDb['dataKeys'].find_one({'keyAltNames':'key2'})['_id']"
   ]
  },
  {
   "cell_type": "markdown",
   "metadata": {},
   "source": [
    "Define the encryption schema:"
   ]
  },
  {
   "cell_type": "code",
   "execution_count": 192,
   "metadata": {},
   "outputs": [],
   "source": [
    "schema_map = {\n",
    "    \"hr.employees\":\n",
    "    {\n",
    "        'bsonType': 'object',\n",
    "        'encryptMetadata': {\n",
    "            'keyId': [key1],\n",
    "            'algorithm': 'AEAD_AES_256_CBC_HMAC_SHA_512-Deterministic'\n",
    "            },\n",
    "        'properties': {\n",
    "            'ssn': {\n",
    "                'encrypt': {\n",
    "                    'bsonType': 'string'\n",
    "                    }\n",
    "                },\n",
    "            'position': {\n",
    "                'bsonType': 'object',\n",
    "                'encryptMetadata': {\n",
    "                    'keyId': [key2],\n",
    "                    'algorithm': 'AEAD_AES_256_CBC_HMAC_SHA_512-Random'\n",
    "                    },\n",
    "                'properties': {\n",
    "                    'compensation': {\n",
    "                        'encrypt': {}\n",
    "                        }\n",
    "                }}\n",
    "            }\n",
    "        }\n",
    "    }"
   ]
  },
  {
   "cell_type": "markdown",
   "metadata": {},
   "source": [
    "Configure the field level encryption client:"
   ]
  },
  {
   "cell_type": "code",
   "execution_count": 193,
   "metadata": {},
   "outputs": [],
   "source": [
    "fleOptions = pymongo.encryption_options.AutoEncryptionOpts(kms_providers, key_vault_namespace, key_vault_client=None, schema_map=schema_map, bypass_auto_encryption=False, mongocryptd_uri='mongodb://localhost:27020', mongocryptd_bypass_spawn=False, mongocryptd_spawn_path='mongocryptd', mongocryptd_spawn_args=None)"
   ]
  },
  {
   "cell_type": "markdown",
   "metadata": {},
   "source": [
    "Initialise the secured client:"
   ]
  },
  {
   "cell_type": "code",
   "execution_count": 194,
   "metadata": {},
   "outputs": [],
   "source": [
    "secClient = pymongo.MongoClient(\"127.0.0.1\",auto_encryption_opts = fleOptions)"
   ]
  },
  {
   "cell_type": "markdown",
   "metadata": {},
   "source": [
    "### Insert Data"
   ]
  },
  {
   "cell_type": "code",
   "execution_count": 195,
   "metadata": {},
   "outputs": [],
   "source": [
    "employee = {\n",
    "    'name': 'John Doe',\n",
    "    'address': {'street': '1234 Main Street',\n",
    "    'city': 'MongoDBVille',\n",
    "    'zip': 99999},\n",
    "    'phone': '949-555-1212',\n",
    "    'ssn': '123-45-6789',\n",
    "    'position': {'compensation': 1234}\n",
    "}"
   ]
  },
  {
   "cell_type": "code",
   "execution_count": 196,
   "metadata": {},
   "outputs": [
    {
     "data": {
      "text/plain": [
       "<pymongo.results.InsertOneResult at 0x10d877808>"
      ]
     },
     "execution_count": 196,
     "metadata": {},
     "output_type": "execute_result"
    }
   ],
   "source": [
    "db = secClient.hr\n",
    "db.employees.insert_one(employee)"
   ]
  },
  {
   "cell_type": "markdown",
   "metadata": {},
   "source": [
    "### Read Data"
   ]
  },
  {
   "cell_type": "code",
   "execution_count": 197,
   "metadata": {},
   "outputs": [
    {
     "data": {
      "text/plain": [
       "{'_id': ObjectId('5da6021e2158d2f8477d0154'),\n",
       " 'name': 'John Doe',\n",
       " 'address': {'street': '1234 Main Street',\n",
       "  'city': 'MongoDBVille',\n",
       "  'zip': 99999},\n",
       " 'phone': '949-555-1212',\n",
       " 'ssn': '123-45-6789',\n",
       " 'position': {'compensation': 1234}}"
      ]
     },
     "execution_count": 197,
     "metadata": {},
     "output_type": "execute_result"
    }
   ],
   "source": [
    "db = secClient.hr\n",
    "db.employees.find_one({'ssn': '123-45-6789'})"
   ]
  },
  {
   "cell_type": "markdown",
   "metadata": {},
   "source": [
    "### Use Compass or the following to show the encrypted values"
   ]
  },
  {
   "cell_type": "code",
   "execution_count": 198,
   "metadata": {},
   "outputs": [],
   "source": [
    "unsecClient = pymongo.MongoClient(\"127.0.0.1\")\n",
    "db = unsecClient.hr\n",
    "db.employees.find_one({'ssn': '123-45-6789'})"
   ]
  },
  {
   "cell_type": "code",
   "execution_count": 199,
   "metadata": {},
   "outputs": [
    {
     "data": {
      "text/plain": [
       "{'_id': ObjectId('5da6021e2158d2f8477d0154'),\n",
       " 'name': 'John Doe',\n",
       " 'address': {'street': '1234 Main Street',\n",
       "  'city': 'MongoDBVille',\n",
       "  'zip': 99999},\n",
       " 'phone': '949-555-1212',\n",
       " 'ssn': Binary(b'\\x01L\\xbe(\\xda\\xf3\\xe7O\\x18\\x92_\\xb6U\\xfd\\xfc\\x0c\\xcd\\x02H\\xda\\xd5\\xf13\\x1f\\xf4\\xb2\\xa8\\x02C\\x04\\xe3\\xfa\\xf9{\\x98\\xe9\\xbd\\x0c-?\\xb9 \\xc4\\xc5\\xeaM\\xdb\\x9e\\xc3\\xd7~|G\\x0b\\xbd\\xd1\\x18\\xe7\\xa4\\x8d\\xd2b\\x10u\\xca\\x90j\\xcd\\x1c\"X\\xa5J\\x1aI\\xb2\\xf9\\xf1\\x8cW_>\\xf1\\x0f\\x8eP\\x8d\\rU\\x87_l\\xb1\\x8e\\xd18g$', 6),\n",
       " 'position': {'compensation': Binary(b'\\x02d\\x87\\xed\\xae\\x8c\\x07Er\\x81\\xd6\\xb0y,\\x15\\x15\\xc4\\x10U\\xbf\\xf5b\\x05\\x90\\x11}\\xefY\\x84\\x8b\\x8e~m\\xc7\\xabZ\\x83<\\x12\\xe3alm\\xcc\\x15\\xa7T\\xf9k\\xce\\x80>I\\x0b\\xd5\\x00\\xdeL\\xb9\\n\\xff#\\x82+\\xf2\\xe1,\\xdb\\x93(k\\xf0\\xe2\\x05Y\\x9e\\xef\\xa7,\\xfa\\xe8\\xf0', 6)}}"
      ]
     },
     "execution_count": 199,
     "metadata": {},
     "output_type": "execute_result"
    }
   ],
   "source": [
    "db.employees.find_one({'name': 'John Doe'})"
   ]
  },
  {
   "cell_type": "code",
   "execution_count": null,
   "metadata": {},
   "outputs": [],
   "source": []
  }
 ],
 "metadata": {
  "kernelspec": {
   "display_name": "Python 3",
   "language": "python",
   "name": "python3"
  },
  "language_info": {
   "codemirror_mode": {
    "name": "ipython",
    "version": 3
   },
   "file_extension": ".py",
   "mimetype": "text/x-python",
   "name": "python",
   "nbconvert_exporter": "python",
   "pygments_lexer": "ipython3",
   "version": "3.6.5"
  }
 },
 "nbformat": 4,
 "nbformat_minor": 4
}
