{
 "cells": [
  {
   "cell_type": "markdown",
   "metadata": {},
   "source": [
    "# MongoDB Field Level Encryption Demo"
   ]
  },
  {
   "cell_type": "code",
   "execution_count": null,
   "metadata": {},
   "outputs": [],
   "source": [
    "import pymongo\n",
    "from pymongo import MongoClient\n",
    "from pymongo.encryption import ClientEncryption\n",
    "from bson import Binary\n",
    "import pymongocrypt\n",
    "import base64\n",
    "from bson.codec_options import DEFAULT_CODEC_OPTIONS"
   ]
  },
  {
   "cell_type": "markdown",
   "metadata": {},
   "source": [
    "### Initialise Key Vault:"
   ]
  },
  {
   "cell_type": "markdown",
   "metadata": {},
   "source": [
    "Example Shell Command: head -c 96 /dev/urandom | base64 > key.txt"
   ]
  },
  {
   "cell_type": "code",
   "execution_count": null,
   "metadata": {},
   "outputs": [],
   "source": [
    "cmk = base64.b64decode(\"IkhJDuh1kQXt7cNlrBkKEMpV/jbpUERloqPGCB0WaNhFC7Ig4z1X2dDwv6XByMlrRyadd3MEC+BdcY8D9cadCgvHe3MVa8o1m00+xcE4KDFJaID/FS1rwZKRPK3KfezP\")\n",
    "\n",
    "kms_providers = { \"local\" : { \"key\" : cmk } }\n",
    "\n",
    "key_vault_namespace = \"encryption.__dataKeys\""
   ]
  },
  {
   "cell_type": "code",
   "execution_count": null,
   "metadata": {},
   "outputs": [],
   "source": [
    "keyVaultClient = pymongo.MongoClient(\"127.0.0.1\")"
   ]
  },
  {
   "cell_type": "code",
   "execution_count": null,
   "metadata": {},
   "outputs": [],
   "source": [
    "keyVault = ClientEncryption(kms_providers, key_vault_namespace, keyVaultClient, DEFAULT_CODEC_OPTIONS)"
   ]
  },
  {
   "cell_type": "markdown",
   "metadata": {},
   "source": [
    "### Create Data Key"
   ]
  },
  {
   "cell_type": "markdown",
   "metadata": {},
   "source": [
    "Create two data encryption keys:"
   ]
  },
  {
   "cell_type": "code",
   "execution_count": null,
   "metadata": {},
   "outputs": [],
   "source": [
    "keyVault.create_data_key(\"local\", master_key=cmk, key_alt_names=[\"key1\"])"
   ]
  },
  {
   "cell_type": "code",
   "execution_count": null,
   "metadata": {},
   "outputs": [],
   "source": [
    "keyVault.create_data_key(\"local\", master_key=cmk, key_alt_names=[\"key2\"])"
   ]
  },
  {
   "cell_type": "markdown",
   "metadata": {},
   "source": [
    "Retrieve the key _id to be referenced in the schema_map:"
   ]
  },
  {
   "cell_type": "code",
   "execution_count": null,
   "metadata": {},
   "outputs": [],
   "source": [
    "keyDb = keyVaultClient.encryption\n",
    "key1 = keyDb['__dataKeys'].find_one({'keyAltNames':'key1'})['_id']\n",
    "key2 = keyDb['__dataKeys'].find_one({'keyAltNames':'key2'})['_id']"
   ]
  },
  {
   "cell_type": "markdown",
   "metadata": {},
   "source": [
    "Define the encryption schema:"
   ]
  },
  {
   "cell_type": "code",
   "execution_count": null,
   "metadata": {},
   "outputs": [],
   "source": [
    "schema_map = {\n",
    "    \"hr.employees\":\n",
    "    {\n",
    "        'bsonType': 'object',\n",
    "        'encryptMetadata': {\n",
    "            'keyId': [key1]\n",
    "            },\n",
    "        'properties': {\n",
    "            'ssn': {\n",
    "                'encrypt': {\n",
    "                    'keyId': [key2],\n",
    "                    'algorithm': 'AEAD_AES_256_CBC_HMAC_SHA_512-Random'\n",
    "                    }\n",
    "                },\n",
    "            'ssn-last': {\n",
    "                'encrypt': {\n",
    "                    'algorithm': 'AEAD_AES_256_CBC_HMAC_SHA_512-Deterministic',\n",
    "                    'bsonType': 'string'\n",
    "                    }\n",
    "                },\n",
    "            'position': {\n",
    "                'bsonType': 'object',\n",
    "                'encryptMetadata': {\n",
    "                    'algorithm': 'AEAD_AES_256_CBC_HMAC_SHA_512-Deterministic'\n",
    "                    },\n",
    "                'properties': {\n",
    "                    'compensation': {\n",
    "                        'encrypt': {\n",
    "                            'bsonType': 'int'\n",
    "                            }\n",
    "                        }\n",
    "                }}\n",
    "            }\n",
    "        }\n",
    "    }"
   ]
  },
  {
   "cell_type": "markdown",
   "metadata": {},
   "source": [
    "Configure the field level encryption client:"
   ]
  },
  {
   "cell_type": "code",
   "execution_count": null,
   "metadata": {},
   "outputs": [],
   "source": [
    "fleOptions = pymongo.encryption_options.AutoEncryptionOpts(kms_providers, key_vault_namespace, key_vault_client=None, schema_map=schema_map, bypass_auto_encryption=False, mongocryptd_uri='mongodb://localhost:27020', mongocryptd_bypass_spawn=False, mongocryptd_spawn_path='mongocryptd', mongocryptd_spawn_args=None)"
   ]
  },
  {
   "cell_type": "markdown",
   "metadata": {},
   "source": [
    "Initialise the secured client:"
   ]
  },
  {
   "cell_type": "code",
   "execution_count": null,
   "metadata": {},
   "outputs": [],
   "source": [
    "secClient = pymongo.MongoClient(\"127.0.0.1\",auto_encryption_opts = fleOptions)"
   ]
  },
  {
   "cell_type": "markdown",
   "metadata": {},
   "source": [
    "### Insert Data"
   ]
  },
  {
   "cell_type": "code",
   "execution_count": null,
   "metadata": {},
   "outputs": [],
   "source": [
    "employee = {\n",
    "    'name': 'John Doe',\n",
    "    'address': {'street': '1234 Main Street',\n",
    "    'city': 'MongoDBVille',\n",
    "    'zip': 99999},\n",
    "    'phone': '949-555-1212',\n",
    "    'ssn': '123-45-6789',\n",
    "    'position': {'compensation': 1234}\n",
    "}"
   ]
  },
  {
   "cell_type": "code",
   "execution_count": null,
   "metadata": {},
   "outputs": [],
   "source": [
    "db = secClient.hr\n",
    "db.employees.insert_one(employee)"
   ]
  },
  {
   "cell_type": "markdown",
   "metadata": {},
   "source": [
    "### Read Data"
   ]
  },
  {
   "cell_type": "code",
   "execution_count": null,
   "metadata": {},
   "outputs": [],
   "source": [
    "db = secClient.hr\n",
    "db.employees.find_one()"
   ]
  },
  {
   "cell_type": "markdown",
   "metadata": {},
   "source": [
    "### Use Compass or the following to show the encrypted values"
   ]
  },
  {
   "cell_type": "code",
   "execution_count": null,
   "metadata": {},
   "outputs": [],
   "source": [
    "unsecClient = pymongo.MongoClient(\"127.0.0.1\")\n",
    "db = unsecClient.hr\n",
    "db.employees.find_one()"
   ]
  },
  {
   "cell_type": "code",
   "execution_count": null,
   "metadata": {},
   "outputs": [],
   "source": []
  }
 ],
 "metadata": {
  "kernelspec": {
   "display_name": "Python 3",
   "language": "python",
   "name": "python3"
  },
  "language_info": {
   "codemirror_mode": {
    "name": "ipython",
    "version": 3
   },
   "file_extension": ".py",
   "mimetype": "text/x-python",
   "name": "python",
   "nbconvert_exporter": "python",
   "pygments_lexer": "ipython3",
   "version": "3.6.5"
  }
 },
 "nbformat": 4,
 "nbformat_minor": 4
}
